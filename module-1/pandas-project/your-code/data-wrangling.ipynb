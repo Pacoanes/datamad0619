{
 "cells": [
  {
   "cell_type": "code",
   "execution_count": 426,
   "metadata": {},
   "outputs": [],
   "source": [
    "import pandas as pd\n",
    "import numpy as np\n",
    "import geopandas as gpd\n",
    "data = pd.read_csv('GSAF5.csv', engine='python')\n"
   ]
  },
  {
   "cell_type": "code",
   "execution_count": 10,
   "metadata": {},
   "outputs": [
    {
     "data": {
      "text/plain": [
       "(5992, 24)"
      ]
     },
     "execution_count": 10,
     "metadata": {},
     "output_type": "execute_result"
    }
   ],
   "source": [
    "#miro la forma para ver de que esta compuesta\n",
    "data.shape\n"
   ]
  },
  {
   "cell_type": "code",
   "execution_count": 126,
   "metadata": {},
   "outputs": [],
   "source": [
    "#analizo los elementos nulos de cada columna\n",
    "null_cols = data.isnull().sum()\n"
   ]
  },
  {
   "cell_type": "code",
   "execution_count": 379,
   "metadata": {
    "scrolled": true
   },
   "outputs": [],
   "source": [
    "#Elimino las columnas que no necesito\n",
    "datan = data.drop(columns=['Unnamed: 22', 'Unnamed: 23', 'Investigator or Source','pdf', 'href formula', 'href',\n",
    "       'Case Number.1', 'Case Number.2', 'Species ', 'Time'])"
   ]
  },
  {
   "cell_type": "code",
   "execution_count": 380,
   "metadata": {},
   "outputs": [],
   "source": [
    "#Elimino los años que estan a cero"
   ]
  },
  {
   "cell_type": "code",
   "execution_count": 381,
   "metadata": {},
   "outputs": [],
   "source": [
    "datani = datan[datan.Year != 0]"
   ]
  },
  {
   "cell_type": "code",
   "execution_count": 382,
   "metadata": {},
   "outputs": [],
   "source": [
    "datanis = datani[datani.Year > 1948]"
   ]
  },
  {
   "cell_type": "code",
   "execution_count": 383,
   "metadata": {},
   "outputs": [
    {
     "name": "stderr",
     "output_type": "stream",
     "text": [
      "/usr/local/Cellar/ipython/7.3.0/libexec/vendor/lib/python3.7/site-packages/ipykernel_launcher.py:1: SettingWithCopyWarning: \n",
      "A value is trying to be set on a copy of a slice from a DataFrame.\n",
      "Try using .loc[row_indexer,col_indexer] = value instead\n",
      "\n",
      "See the caveats in the documentation: http://pandas.pydata.org/pandas-docs/stable/indexing.html#indexing-view-versus-copy\n",
      "  \"\"\"Entry point for launching an IPython kernel.\n",
      "/usr/local/Cellar/ipython/7.3.0/libexec/vendor/lib/python3.7/site-packages/ipykernel_launcher.py:2: SettingWithCopyWarning: \n",
      "A value is trying to be set on a copy of a slice from a DataFrame.\n",
      "Try using .loc[row_indexer,col_indexer] = value instead\n",
      "\n",
      "See the caveats in the documentation: http://pandas.pydata.org/pandas-docs/stable/indexing.html#indexing-view-versus-copy\n",
      "  \n",
      "/usr/local/Cellar/ipython/7.3.0/libexec/vendor/lib/python3.7/site-packages/ipykernel_launcher.py:3: SettingWithCopyWarning: \n",
      "A value is trying to be set on a copy of a slice from a DataFrame.\n",
      "Try using .loc[row_indexer,col_indexer] = value instead\n",
      "\n",
      "See the caveats in the documentation: http://pandas.pydata.org/pandas-docs/stable/indexing.html#indexing-view-versus-copy\n",
      "  This is separate from the ipykernel package so we can avoid doing imports until\n",
      "/usr/local/Cellar/ipython/7.3.0/libexec/vendor/lib/python3.7/site-packages/ipykernel_launcher.py:4: SettingWithCopyWarning: \n",
      "A value is trying to be set on a copy of a slice from a DataFrame.\n",
      "Try using .loc[row_indexer,col_indexer] = value instead\n",
      "\n",
      "See the caveats in the documentation: http://pandas.pydata.org/pandas-docs/stable/indexing.html#indexing-view-versus-copy\n",
      "  after removing the cwd from sys.path.\n",
      "/usr/local/Cellar/ipython/7.3.0/libexec/vendor/lib/python3.7/site-packages/ipykernel_launcher.py:5: SettingWithCopyWarning: \n",
      "A value is trying to be set on a copy of a slice from a DataFrame.\n",
      "Try using .loc[row_indexer,col_indexer] = value instead\n",
      "\n",
      "See the caveats in the documentation: http://pandas.pydata.org/pandas-docs/stable/indexing.html#indexing-view-versus-copy\n",
      "  \"\"\"\n",
      "/usr/local/Cellar/ipython/7.3.0/libexec/vendor/lib/python3.7/site-packages/ipykernel_launcher.py:6: SettingWithCopyWarning: \n",
      "A value is trying to be set on a copy of a slice from a DataFrame.\n",
      "Try using .loc[row_indexer,col_indexer] = value instead\n",
      "\n",
      "See the caveats in the documentation: http://pandas.pydata.org/pandas-docs/stable/indexing.html#indexing-view-versus-copy\n",
      "  \n",
      "/usr/local/Cellar/ipython/7.3.0/libexec/vendor/lib/python3.7/site-packages/ipykernel_launcher.py:7: SettingWithCopyWarning: \n",
      "A value is trying to be set on a copy of a slice from a DataFrame.\n",
      "Try using .loc[row_indexer,col_indexer] = value instead\n",
      "\n",
      "See the caveats in the documentation: http://pandas.pydata.org/pandas-docs/stable/indexing.html#indexing-view-versus-copy\n",
      "  import sys\n"
     ]
    }
   ],
   "source": [
    "datanis['Date'] = datanis['Date'].str.replace('-', ' ')\n",
    "datanis['Date'] = datanis['Date'].str.replace('\\d+', '')\n",
    "datanis['Date'] = datanis['Date'].str.replace('Reported', '')\n",
    "datanis['Date'] = datanis['Date'].str.replace('Early', '')\n",
    "datanis['Date'] = datanis['Date'].str.replace('Late', '')\n",
    "datanis['Date'] = datanis['Date'].str.replace(' ', '')\n",
    "datanis['Date'] = datanis['Date'].str.replace('Summer, summer, summerof ', '')"
   ]
  },
  {
   "cell_type": "code",
   "execution_count": 384,
   "metadata": {},
   "outputs": [],
   "source": [
    "df = datanis[datanis.Date != \"\"]"
   ]
  },
  {
   "cell_type": "code",
   "execution_count": 385,
   "metadata": {},
   "outputs": [],
   "source": [
    "#ass = df.Date.value_counts().head(12).index\n"
   ]
  },
  {
   "cell_type": "code",
   "execution_count": 386,
   "metadata": {},
   "outputs": [],
   "source": [
    "df2 = df[df[\"Date\"].isin(['Jan','Feb','Mar','Apr','May','Jun','Jul','Aug', 'Sep','Oct','Nov','Dec'])]"
   ]
  },
  {
   "cell_type": "code",
   "execution_count": 387,
   "metadata": {},
   "outputs": [],
   "source": [
    "dasa = df2.drop(columns=['Case Number','Location','Name','Age'])\n"
   ]
  },
  {
   "cell_type": "code",
   "execution_count": 388,
   "metadata": {},
   "outputs": [],
   "source": [
    "dasa=dasa.rename(columns = {'Sex ':'Sex'})\n",
    "dasa=dasa.rename(columns = {'Fatal (Y/N)':'Fatal'})\n",
    "dasa=dasa.rename(columns = {'Date':'Month'})"
   ]
  },
  {
   "cell_type": "code",
   "execution_count": 389,
   "metadata": {},
   "outputs": [],
   "source": [
    "dasa1 = dasa[dasa[\"Sex\"].isin(['M', 'F'])]"
   ]
  },
  {
   "cell_type": "code",
   "execution_count": 390,
   "metadata": {},
   "outputs": [
    {
     "name": "stderr",
     "output_type": "stream",
     "text": [
      "/usr/local/Cellar/ipython/7.3.0/libexec/vendor/lib/python3.7/site-packages/ipykernel_launcher.py:1: SettingWithCopyWarning: \n",
      "A value is trying to be set on a copy of a slice from a DataFrame.\n",
      "Try using .loc[row_indexer,col_indexer] = value instead\n",
      "\n",
      "See the caveats in the documentation: http://pandas.pydata.org/pandas-docs/stable/indexing.html#indexing-view-versus-copy\n",
      "  \"\"\"Entry point for launching an IPython kernel.\n"
     ]
    }
   ],
   "source": [
    "dasa1['Fatal'] = dasa1['Fatal'].str.replace(' N', 'N')"
   ]
  },
  {
   "cell_type": "code",
   "execution_count": null,
   "metadata": {},
   "outputs": [],
   "source": []
  },
  {
   "cell_type": "code",
   "execution_count": 397,
   "metadata": {},
   "outputs": [],
   "source": [
    "dasa.to_csv('cleaned.csv')"
   ]
  },
  {
   "cell_type": "code",
   "execution_count": 489,
   "metadata": {},
   "outputs": [
    {
     "data": {
      "text/html": [
       "<div>\n",
       "<style scoped>\n",
       "    .dataframe tbody tr th:only-of-type {\n",
       "        vertical-align: middle;\n",
       "    }\n",
       "\n",
       "    .dataframe tbody tr th {\n",
       "        vertical-align: top;\n",
       "    }\n",
       "\n",
       "    .dataframe thead th {\n",
       "        text-align: right;\n",
       "    }\n",
       "</style>\n",
       "<table border=\"1\" class=\"dataframe\">\n",
       "  <thead>\n",
       "    <tr style=\"text-align: right;\">\n",
       "      <th></th>\n",
       "      <th>Year</th>\n",
       "      <th>Country</th>\n",
       "      <th>Fatal</th>\n",
       "    </tr>\n",
       "  </thead>\n",
       "  <tbody>\n",
       "    <tr>\n",
       "      <th>0</th>\n",
       "      <td>2016</td>\n",
       "      <td>united states of america</td>\n",
       "      <td>N</td>\n",
       "    </tr>\n",
       "    <tr>\n",
       "      <th>1</th>\n",
       "      <td>2016</td>\n",
       "      <td>united states of america</td>\n",
       "      <td>N</td>\n",
       "    </tr>\n",
       "    <tr>\n",
       "      <th>2</th>\n",
       "      <td>2016</td>\n",
       "      <td>united states of america</td>\n",
       "      <td>N</td>\n",
       "    </tr>\n",
       "    <tr>\n",
       "      <th>3</th>\n",
       "      <td>2016</td>\n",
       "      <td>australia</td>\n",
       "      <td>N</td>\n",
       "    </tr>\n",
       "    <tr>\n",
       "      <th>4</th>\n",
       "      <td>2016</td>\n",
       "      <td>australia</td>\n",
       "      <td>N</td>\n",
       "    </tr>\n",
       "  </tbody>\n",
       "</table>\n",
       "</div>"
      ],
      "text/plain": [
       "   Year                   Country Fatal\n",
       "0  2016  united states of america     N\n",
       "1  2016  united states of america     N\n",
       "2  2016  united states of america     N\n",
       "3  2016                 australia     N\n",
       "4  2016                 australia     N"
      ]
     },
     "execution_count": 489,
     "metadata": {},
     "output_type": "execute_result"
    }
   ],
   "source": [
    "nuevo = dasa.drop(columns=['Type', 'Area', 'Activity', 'Injury', 'Sex', 'original order', 'Month'])\n",
    "#nuevo['Frate'] =\n",
    "cuantos=nuevo.groupby(['Country','Fatal']).count() \n",
    "ss=nuevo.Country.str.lower()\n",
    "nuevo.Country=ss\n",
    "nuevo['Country'] = nuevo['Country'].str.replace('usa', 'united states of america')\n",
    "nuevo.head()"
   ]
  },
  {
   "cell_type": "code",
   "execution_count": 446,
   "metadata": {},
   "outputs": [],
   "source": [
    "paises = pd.read_csv('paises.csv', engine='python')\n",
    "paises = paises.drop([paises.columns[2], paises.columns[3]], axis='columns')\n",
    "pais=paises.drop_duplicates()"
   ]
  },
  {
   "cell_type": "code",
   "execution_count": 500,
   "metadata": {},
   "outputs": [],
   "source": [
    "shapefile = 'ne_110m_admin_0_countries.shp'\n",
    "#Read shapefile using Geopandas\n",
    "gdf = gpd.read_file(shapefile)[['ADMIN', 'ADM0_A3', 'geometry']]\n",
    "#Rename columns.\n",
    "gdf.columns = ['country', 'country_code', 'geometry']\n",
    "gdf = gdf.drop(gdf.index[159])\n",
    "gdf1 = gdf\n"
   ]
  },
  {
   "cell_type": "code",
   "execution_count": 508,
   "metadata": {},
   "outputs": [
    {
     "name": "stdout",
     "output_type": "stream",
     "text": [
      "[{'country': 'fiji', 'country_code': 'FJI'}, {'country': 'united republic of tanzania', 'country_code': 'TZA'}, {'country': 'western sahara', 'country_code': 'SAH'}, {'country': 'canada', 'country_code': 'CAN'}, {'country': 'united states of america', 'country_code': 'USA'}, {'country': 'kazakhstan', 'country_code': 'KAZ'}, {'country': 'uzbekistan', 'country_code': 'UZB'}, {'country': 'papua new guinea', 'country_code': 'PNG'}, {'country': 'indonesia', 'country_code': 'IDN'}, {'country': 'argentina', 'country_code': 'ARG'}, {'country': 'chile', 'country_code': 'CHL'}, {'country': 'democratic republic of the congo', 'country_code': 'COD'}, {'country': 'somalia', 'country_code': 'SOM'}, {'country': 'kenya', 'country_code': 'KEN'}, {'country': 'sudan', 'country_code': 'SDN'}, {'country': 'chad', 'country_code': 'TCD'}, {'country': 'haiti', 'country_code': 'HTI'}, {'country': 'dominican republic', 'country_code': 'DOM'}, {'country': 'russia', 'country_code': 'RUS'}, {'country': 'the bahamas', 'country_code': 'BHS'}, {'country': 'falkland islands', 'country_code': 'FLK'}, {'country': 'norway', 'country_code': 'NOR'}, {'country': 'greenland', 'country_code': 'GRL'}, {'country': 'french southern and antarctic lands', 'country_code': 'ATF'}, {'country': 'east timor', 'country_code': 'TLS'}, {'country': 'south africa', 'country_code': 'ZAF'}, {'country': 'lesotho', 'country_code': 'LSO'}, {'country': 'mexico', 'country_code': 'MEX'}, {'country': 'uruguay', 'country_code': 'URY'}, {'country': 'brazil', 'country_code': 'BRA'}, {'country': 'bolivia', 'country_code': 'BOL'}, {'country': 'peru', 'country_code': 'PER'}, {'country': 'colombia', 'country_code': 'COL'}, {'country': 'panama', 'country_code': 'PAN'}, {'country': 'costa rica', 'country_code': 'CRI'}, {'country': 'nicaragua', 'country_code': 'NIC'}, {'country': 'honduras', 'country_code': 'HND'}, {'country': 'el salvador', 'country_code': 'SLV'}, {'country': 'guatemala', 'country_code': 'GTM'}, {'country': 'belize', 'country_code': 'BLZ'}, {'country': 'venezuela', 'country_code': 'VEN'}, {'country': 'guyana', 'country_code': 'GUY'}, {'country': 'suriname', 'country_code': 'SUR'}, {'country': 'france', 'country_code': 'FRA'}, {'country': 'ecuador', 'country_code': 'ECU'}, {'country': 'puerto rico', 'country_code': 'PRI'}, {'country': 'jamaica', 'country_code': 'JAM'}, {'country': 'cuba', 'country_code': 'CUB'}, {'country': 'zimbabwe', 'country_code': 'ZWE'}, {'country': 'botswana', 'country_code': 'BWA'}, {'country': 'namibia', 'country_code': 'NAM'}, {'country': 'senegal', 'country_code': 'SEN'}, {'country': 'mali', 'country_code': 'MLI'}, {'country': 'mauritania', 'country_code': 'MRT'}, {'country': 'benin', 'country_code': 'BEN'}, {'country': 'niger', 'country_code': 'NER'}, {'country': 'nigeria', 'country_code': 'NGA'}, {'country': 'cameroon', 'country_code': 'CMR'}, {'country': 'togo', 'country_code': 'TGO'}, {'country': 'ghana', 'country_code': 'GHA'}, {'country': 'ivory coast', 'country_code': 'CIV'}, {'country': 'guinea', 'country_code': 'GIN'}, {'country': 'guinea-bissau', 'country_code': 'GNB'}, {'country': 'liberia', 'country_code': 'LBR'}, {'country': 'sierra leone', 'country_code': 'SLE'}, {'country': 'burkina faso', 'country_code': 'BFA'}, {'country': 'central african republic', 'country_code': 'CAF'}, {'country': 'republic of the congo', 'country_code': 'COG'}, {'country': 'gabon', 'country_code': 'GAB'}, {'country': 'equatorial guinea', 'country_code': 'GNQ'}, {'country': 'zambia', 'country_code': 'ZMB'}, {'country': 'malawi', 'country_code': 'MWI'}, {'country': 'mozambique', 'country_code': 'MOZ'}, {'country': 'eswatini', 'country_code': 'SWZ'}, {'country': 'angola', 'country_code': 'AGO'}, {'country': 'burundi', 'country_code': 'BDI'}, {'country': 'israel', 'country_code': 'ISR'}, {'country': 'lebanon', 'country_code': 'LBN'}, {'country': 'madagascar', 'country_code': 'MDG'}, {'country': 'palestine', 'country_code': 'PSX'}, {'country': 'gambia', 'country_code': 'GMB'}, {'country': 'tunisia', 'country_code': 'TUN'}, {'country': 'algeria', 'country_code': 'DZA'}, {'country': 'jordan', 'country_code': 'JOR'}, {'country': 'united arab emirates', 'country_code': 'ARE'}, {'country': 'qatar', 'country_code': 'QAT'}, {'country': 'kuwait', 'country_code': 'KWT'}, {'country': 'iraq', 'country_code': 'IRQ'}, {'country': 'oman', 'country_code': 'OMN'}, {'country': 'vanuatu', 'country_code': 'VUT'}, {'country': 'cambodia', 'country_code': 'KHM'}, {'country': 'thailand', 'country_code': 'THA'}, {'country': 'laos', 'country_code': 'LAO'}, {'country': 'myanmar', 'country_code': 'MMR'}, {'country': 'vietnam', 'country_code': 'VNM'}, {'country': 'north korea', 'country_code': 'PRK'}, {'country': 'south korea', 'country_code': 'KOR'}, {'country': 'mongolia', 'country_code': 'MNG'}, {'country': 'india', 'country_code': 'IND'}, {'country': 'bangladesh', 'country_code': 'BGD'}, {'country': 'bhutan', 'country_code': 'BTN'}, {'country': 'nepal', 'country_code': 'NPL'}, {'country': 'pakistan', 'country_code': 'PAK'}, {'country': 'afghanistan', 'country_code': 'AFG'}, {'country': 'tajikistan', 'country_code': 'TJK'}, {'country': 'kyrgyzstan', 'country_code': 'KGZ'}, {'country': 'turkmenistan', 'country_code': 'TKM'}, {'country': 'iran', 'country_code': 'IRN'}, {'country': 'syria', 'country_code': 'SYR'}, {'country': 'armenia', 'country_code': 'ARM'}, {'country': 'sweden', 'country_code': 'SWE'}, {'country': 'belarus', 'country_code': 'BLR'}, {'country': 'ukraine', 'country_code': 'UKR'}, {'country': 'poland', 'country_code': 'POL'}, {'country': 'austria', 'country_code': 'AUT'}, {'country': 'hungary', 'country_code': 'HUN'}, {'country': 'moldova', 'country_code': 'MDA'}, {'country': 'romania', 'country_code': 'ROU'}, {'country': 'lithuania', 'country_code': 'LTU'}, {'country': 'latvia', 'country_code': 'LVA'}, {'country': 'estonia', 'country_code': 'EST'}, {'country': 'germany', 'country_code': 'DEU'}, {'country': 'bulgaria', 'country_code': 'BGR'}, {'country': 'greece', 'country_code': 'GRC'}, {'country': 'turkey', 'country_code': 'TUR'}, {'country': 'albania', 'country_code': 'ALB'}, {'country': 'croatia', 'country_code': 'HRV'}, {'country': 'switzerland', 'country_code': 'CHE'}, {'country': 'luxembourg', 'country_code': 'LUX'}, {'country': 'belgium', 'country_code': 'BEL'}, {'country': 'netherlands', 'country_code': 'NLD'}, {'country': 'portugal', 'country_code': 'PRT'}, {'country': 'spain', 'country_code': 'ESP'}, {'country': 'ireland', 'country_code': 'IRL'}, {'country': 'new caledonia', 'country_code': 'NCL'}, {'country': 'solomon islands', 'country_code': 'SLB'}, {'country': 'new zealand', 'country_code': 'NZL'}, {'country': 'australia', 'country_code': 'AUS'}, {'country': 'sri lanka', 'country_code': 'LKA'}, {'country': 'china', 'country_code': 'CHN'}, {'country': 'taiwan', 'country_code': 'TWN'}, {'country': 'italy', 'country_code': 'ITA'}, {'country': 'denmark', 'country_code': 'DNK'}, {'country': 'united kingdom', 'country_code': 'GBR'}, {'country': 'iceland', 'country_code': 'ISL'}, {'country': 'azerbaijan', 'country_code': 'AZE'}, {'country': 'georgia', 'country_code': 'GEO'}, {'country': 'philippines', 'country_code': 'PHL'}, {'country': 'malaysia', 'country_code': 'MYS'}, {'country': 'brunei', 'country_code': 'BRN'}, {'country': 'slovenia', 'country_code': 'SVN'}, {'country': 'finland', 'country_code': 'FIN'}, {'country': 'slovakia', 'country_code': 'SVK'}, {'country': 'czechia', 'country_code': 'CZE'}, {'country': 'eritrea', 'country_code': 'ERI'}, {'country': 'japan', 'country_code': 'JPN'}, {'country': 'paraguay', 'country_code': 'PRY'}, {'country': 'yemen', 'country_code': 'YEM'}, {'country': 'saudi arabia', 'country_code': 'SAU'}, {'country': 'northern cyprus', 'country_code': 'CYN'}, {'country': 'cyprus', 'country_code': 'CYP'}, {'country': 'morocco', 'country_code': 'MAR'}, {'country': 'egypt', 'country_code': 'EGY'}, {'country': 'libya', 'country_code': 'LBY'}, {'country': 'ethiopia', 'country_code': 'ETH'}, {'country': 'djibouti', 'country_code': 'DJI'}, {'country': 'somaliland', 'country_code': 'SOL'}, {'country': 'uganda', 'country_code': 'UGA'}, {'country': 'rwanda', 'country_code': 'RWA'}, {'country': 'bosnia and herzegovina', 'country_code': 'BIH'}, {'country': 'macedonia', 'country_code': 'MKD'}, {'country': 'republic of serbia', 'country_code': 'SRB'}, {'country': 'montenegro', 'country_code': 'MNE'}, {'country': 'kosovo', 'country_code': 'KOS'}, {'country': 'trinidad and tobago', 'country_code': 'TTO'}, {'country': 'south sudan', 'country_code': 'SDS'}]\n"
     ]
    }
   ],
   "source": [
    "ss=gdf.country.str.lower()\n",
    "gdf.country=ss\n",
    "\n",
    "#gdf1=gdf1.drop(columns=['geometry'])\n",
    "gdf1\n",
    "gdf2=gdf1.to_dict('records')\n",
    "print(gdf2)"
   ]
  },
  {
   "cell_type": "code",
   "execution_count": null,
   "metadata": {},
   "outputs": [],
   "source": [
    "\n"
   ]
  },
  {
   "cell_type": "code",
   "execution_count": null,
   "metadata": {},
   "outputs": [],
   "source": []
  }
 ],
 "metadata": {
  "kernelspec": {
   "display_name": "Python 3",
   "language": "python",
   "name": "python3"
  },
  "language_info": {
   "codemirror_mode": {
    "name": "ipython",
    "version": 3
   },
   "file_extension": ".py",
   "mimetype": "text/x-python",
   "name": "python",
   "nbconvert_exporter": "python",
   "pygments_lexer": "ipython3",
   "version": "3.7.2"
  }
 },
 "nbformat": 4,
 "nbformat_minor": 2
}
